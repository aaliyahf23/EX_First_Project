{
  "cells": [
    {
      "metadata": {
        "trusted": true
      },
      "cell_type": "code",
      "source": "x=2\ny=5\nxy=\"hey\"\n\nprint(x)\nprint(y)\nprint(xy)\n",
      "execution_count": 1,
      "outputs": [
        {
          "output_type": "stream",
          "text": "2\n5\nhey\n",
          "name": "stdout"
        }
      ]
    },
    {
      "metadata": {
        "trusted": true
      },
      "cell_type": "code",
      "source": "todays_date =\"September 10, 2019\"\nprint(todays_date)",
      "execution_count": 4,
      "outputs": [
        {
          "output_type": "stream",
          "text": "September 10, 2019\n",
          "name": "stdout"
        }
      ]
    },
    {
      "metadata": {
        "trusted": true
      },
      "cell_type": "code",
      "source": "fff=['alfredo, steak, curry chicken,cottage pie, mac n cheese']\nprint(fff)\n",
      "execution_count": 7,
      "outputs": [
        {
          "output_type": "stream",
          "text": "['alfredo, steak, curry chicken,cottage pie, mac n cheese']\n",
          "name": "stdout"
        }
      ]
    },
    {
      "metadata": {
        "trusted": true
      },
      "cell_type": "code",
      "source": "",
      "execution_count": null,
      "outputs": []
    }
  ],
  "metadata": {
    "kernelspec": {
      "name": "python36",
      "display_name": "Python 3.6",
      "language": "python"
    },
    "language_info": {
      "mimetype": "text/x-python",
      "nbconvert_exporter": "python",
      "name": "python",
      "pygments_lexer": "ipython3",
      "version": "3.6.6",
      "file_extension": ".py",
      "codemirror_mode": {
        "version": 3,
        "name": "ipython"
      }
    }
  },
  "nbformat": 4,
  "nbformat_minor": 2
}